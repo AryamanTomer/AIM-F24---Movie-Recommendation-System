{
 "cells": [
  {
   "cell_type": "code",
   "execution_count": 18,
   "id": "29d8bf89-1326-4b53-b80c-57426b76c561",
   "metadata": {},
   "outputs": [],
   "source": [
    "import pandas as pd\n",
    "import numpy as np\n",
    "data = pd.read_csv(\"netflix_titles (1).csv\")"
   ]
  },
  {
   "cell_type": "code",
   "execution_count": 25,
   "id": "2855aaf8-eb6a-4eb3-b0c2-1cf4cf6d6f2f",
   "metadata": {},
   "outputs": [
    {
     "name": "stdout",
     "output_type": "stream",
     "text": [
      "  show_id     type                  title         director                           cast  \\\n",
      "0      s1    Movie   Dick Johnson Is Dead  Kirsten Johnson                            N/A   \n",
      "1      s2  TV Show          Blood & Water              N/A  Ama Qamata, Khosi Ngema, G...   \n",
      "2      s3  TV Show              Ganglands  Julien Leclercq  Sami Bouajila, Tracy Gotoa...   \n",
      "3      s4  TV Show  Jailbirds New Orleans              N/A                            N/A   \n",
      "4      s5  TV Show           Kota Factory              N/A  Mayur More, Jitendra Kumar...   \n",
      "\n",
      "         country          date_added  release_year rating   duration  \\\n",
      "0  United States  September 25, 2021          2020  PG-13     90 min   \n",
      "1   South Africa  September 24, 2021          2021  TV-MA  2 Seasons   \n",
      "2            N/A  September 24, 2021          2021  TV-MA   1 Season   \n",
      "3            N/A  September 24, 2021          2021  TV-MA   1 Season   \n",
      "4          India  September 24, 2021          2021  TV-MA  2 Seasons   \n",
      "\n",
      "                       listed_in                    description  \n",
      "0                  Documentaries  As her father nears the en...  \n",
      "1  International TV Shows, TV...  After crossing paths at a ...  \n",
      "2  Crime TV Shows, Internatio...  To protect his family from...  \n",
      "3         Docuseries, Reality TV  Feuds, flirtations and toi...  \n",
      "4  International TV Shows, Ro...  In a city of coaching cent...  \n"
     ]
    }
   ],
   "source": [
    "print(data.head())"
   ]
  },
  {
   "cell_type": "code",
   "execution_count": 20,
   "id": "732b8d73-6d6a-4020-846e-c1fb39d71dd0",
   "metadata": {},
   "outputs": [
    {
     "name": "stdout",
     "output_type": "stream",
     "text": [
      "\n",
      "\n",
      "Attributes in Data:\n",
      "==========================\n",
      "\n",
      "Index(['show_id', 'type', 'title', 'director', 'cast', 'country', 'date_added', 'release_year',\n",
      "       'rating', 'duration', 'listed_in', 'description'],\n",
      "      dtype='object')\n",
      "\n",
      "\n",
      "Number of Instances in Data: 8807\n",
      "========================================\n",
      "\n"
     ]
    }
   ],
   "source": [
    "print(\"\\n\\nAttributes in Data:\")\n",
    "print(\"==========================\\n\")\n",
    "\n",
    "print(data.columns)\n",
    "\n",
    "print(\"\\n\\nNumber of Instances in Data:\",data[\"show_id\"].count())\n",
    "print(\"========================================\\n\")"
   ]
  },
  {
   "cell_type": "code",
   "execution_count": 27,
   "id": "d8218d18-82d6-4a7d-8606-34b7872e3005",
   "metadata": {},
   "outputs": [
    {
     "data": {
      "text/html": [
       "<div>\n",
       "<style scoped>\n",
       "    .dataframe tbody tr th:only-of-type {\n",
       "        vertical-align: middle;\n",
       "    }\n",
       "\n",
       "    .dataframe tbody tr th {\n",
       "        vertical-align: top;\n",
       "    }\n",
       "\n",
       "    .dataframe thead th {\n",
       "        text-align: right;\n",
       "    }\n",
       "</style>\n",
       "<table border=\"1\" class=\"dataframe\">\n",
       "  <thead>\n",
       "    <tr style=\"text-align: right;\">\n",
       "      <th></th>\n",
       "      <th>release_year</th>\n",
       "    </tr>\n",
       "  </thead>\n",
       "  <tbody>\n",
       "    <tr>\n",
       "      <th>count</th>\n",
       "      <td>8807.000000</td>\n",
       "    </tr>\n",
       "    <tr>\n",
       "      <th>mean</th>\n",
       "      <td>2014.180198</td>\n",
       "    </tr>\n",
       "    <tr>\n",
       "      <th>std</th>\n",
       "      <td>8.819312</td>\n",
       "    </tr>\n",
       "    <tr>\n",
       "      <th>min</th>\n",
       "      <td>1925.000000</td>\n",
       "    </tr>\n",
       "    <tr>\n",
       "      <th>25%</th>\n",
       "      <td>2013.000000</td>\n",
       "    </tr>\n",
       "    <tr>\n",
       "      <th>50%</th>\n",
       "      <td>2017.000000</td>\n",
       "    </tr>\n",
       "    <tr>\n",
       "      <th>75%</th>\n",
       "      <td>2019.000000</td>\n",
       "    </tr>\n",
       "    <tr>\n",
       "      <th>max</th>\n",
       "      <td>2021.000000</td>\n",
       "    </tr>\n",
       "  </tbody>\n",
       "</table>\n",
       "</div>"
      ],
      "text/plain": [
       "       release_year\n",
       "count   8807.000000\n",
       "mean    2014.180198\n",
       "std        8.819312\n",
       "min     1925.000000\n",
       "25%     2013.000000\n",
       "50%     2017.000000\n",
       "75%     2019.000000\n",
       "max     2021.000000"
      ]
     },
     "execution_count": 27,
     "metadata": {},
     "output_type": "execute_result"
    }
   ],
   "source": [
    "data.describe()"
   ]
  },
  {
   "cell_type": "code",
   "execution_count": null,
   "id": "930fd4ff-987d-4183-875e-365cdc096713",
   "metadata": {},
   "outputs": [],
   "source": []
  }
 ],
 "metadata": {
  "kernelspec": {
   "display_name": "Python 3 (ipykernel)",
   "language": "python",
   "name": "python3"
  },
  "language_info": {
   "codemirror_mode": {
    "name": "ipython",
    "version": 3
   },
   "file_extension": ".py",
   "mimetype": "text/x-python",
   "name": "python",
   "nbconvert_exporter": "python",
   "pygments_lexer": "ipython3",
   "version": "3.12.4"
  }
 },
 "nbformat": 4,
 "nbformat_minor": 5
}
